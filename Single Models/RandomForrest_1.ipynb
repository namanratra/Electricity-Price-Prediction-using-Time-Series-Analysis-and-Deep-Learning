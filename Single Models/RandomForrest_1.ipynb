{
 "cells": [
  {
   "cell_type": "code",
   "execution_count": null,
   "metadata": {
    "colab": {
     "base_uri": "https://localhost:8080/",
     "height": 1000
    },
    "id": "MApjd4SJVFf0",
    "outputId": "5593f5b8-3ca1-4b14-9812-5132a5f68965"
   },
   "outputs": [
    {
     "data": {
      "application/vnd.google.colaboratory.intrinsic+json": {
       "type": "string"
      },
      "text/plain": [
       "'The kind of data to be downloaded:'"
      ]
     },
     "metadata": {},
     "output_type": "display_data"
    },
    {
     "data": {
      "text/plain": [
       "[{'data_type': 'train', 'predictor_or_target': 'X', 'window_size': 5},\n",
       " {'data_type': 'train', 'predictor_or_target': 'y', 'window_size': 5},\n",
       " {'data_type': 'valid', 'predictor_or_target': 'X', 'window_size': 5},\n",
       " {'data_type': 'valid', 'predictor_or_target': 'y', 'window_size': 5},\n",
       " {'data_type': 'test', 'predictor_or_target': 'X', 'window_size': 5},\n",
       " {'data_type': 'test', 'predictor_or_target': 'y', 'window_size': 5},\n",
       " {'data_type': 'train', 'predictor_or_target': 'X', 'window_size': 15},\n",
       " {'data_type': 'train', 'predictor_or_target': 'y', 'window_size': 15},\n",
       " {'data_type': 'valid', 'predictor_or_target': 'X', 'window_size': 15},\n",
       " {'data_type': 'valid', 'predictor_or_target': 'y', 'window_size': 15},\n",
       " {'data_type': 'test', 'predictor_or_target': 'X', 'window_size': 15},\n",
       " {'data_type': 'test', 'predictor_or_target': 'y', 'window_size': 15}]"
      ]
     },
     "metadata": {},
     "output_type": "display_data"
    },
    {
     "name": "stdout",
     "output_type": "stream",
     "text": [
      "Downloading started...\n",
      "--2021-11-09 16:17:48--  https://frankfurt-school-dataset.s3.eu-central-1.amazonaws.com/Sept2021/window_size_5_time_encoding_True/X_train_window_size_5_time_encoding_True.csv\n",
      "Resolving frankfurt-school-dataset.s3.eu-central-1.amazonaws.com (frankfurt-school-dataset.s3.eu-central-1.amazonaws.com)... 52.219.75.84\n",
      "Connecting to frankfurt-school-dataset.s3.eu-central-1.amazonaws.com (frankfurt-school-dataset.s3.eu-central-1.amazonaws.com)|52.219.75.84|:443... connected.\n",
      "HTTP request sent, awaiting response... 200 OK\n",
      "Length: 53997719 (51M) [text/csv]\n",
      "Saving to: ‘X_train_window_size_5_time_encoding_True.csv’\n",
      "\n",
      "X_train_window_size 100%[===================>]  51.50M  18.4MB/s    in 2.8s    \n",
      "\n",
      "2021-11-09 16:17:52 (18.4 MB/s) - ‘X_train_window_size_5_time_encoding_True.csv’ saved [53997719/53997719]\n",
      "\n",
      "--2021-11-09 16:17:52--  https://frankfurt-school-dataset.s3.eu-central-1.amazonaws.com/Sept2021/window_size_5_time_encoding_True/y_train_window_size_5_time_encoding_True.csv\n",
      "Resolving frankfurt-school-dataset.s3.eu-central-1.amazonaws.com (frankfurt-school-dataset.s3.eu-central-1.amazonaws.com)... 52.219.75.84\n",
      "Connecting to frankfurt-school-dataset.s3.eu-central-1.amazonaws.com (frankfurt-school-dataset.s3.eu-central-1.amazonaws.com)|52.219.75.84|:443... connected.\n",
      "HTTP request sent, awaiting response... 200 OK\n",
      "Length: 1505402 (1.4M) [text/csv]\n",
      "Saving to: ‘y_train_window_size_5_time_encoding_True.csv’\n",
      "\n",
      "y_train_window_size 100%[===================>]   1.44M  2.21MB/s    in 0.6s    \n",
      "\n",
      "2021-11-09 16:17:53 (2.21 MB/s) - ‘y_train_window_size_5_time_encoding_True.csv’ saved [1505402/1505402]\n",
      "\n",
      "--2021-11-09 16:17:53--  https://frankfurt-school-dataset.s3.eu-central-1.amazonaws.com/Sept2021/window_size_5_time_encoding_True/X_valid_window_size_5_time_encoding_True.csv\n",
      "Resolving frankfurt-school-dataset.s3.eu-central-1.amazonaws.com (frankfurt-school-dataset.s3.eu-central-1.amazonaws.com)... 52.219.169.66\n",
      "Connecting to frankfurt-school-dataset.s3.eu-central-1.amazonaws.com (frankfurt-school-dataset.s3.eu-central-1.amazonaws.com)|52.219.169.66|:443... connected.\n",
      "HTTP request sent, awaiting response... 200 OK\n",
      "Length: 2931637 (2.8M) [text/csv]\n",
      "Saving to: ‘X_valid_window_size_5_time_encoding_True.csv’\n",
      "\n",
      "X_valid_window_size 100%[===================>]   2.79M  3.24MB/s    in 0.9s    \n",
      "\n",
      "2021-11-09 16:17:55 (3.24 MB/s) - ‘X_valid_window_size_5_time_encoding_True.csv’ saved [2931637/2931637]\n",
      "\n",
      "--2021-11-09 16:17:55--  https://frankfurt-school-dataset.s3.eu-central-1.amazonaws.com/Sept2021/window_size_5_time_encoding_True/y_valid_window_size_5_time_encoding_True.csv\n",
      "Resolving frankfurt-school-dataset.s3.eu-central-1.amazonaws.com (frankfurt-school-dataset.s3.eu-central-1.amazonaws.com)... 52.219.169.66\n",
      "Connecting to frankfurt-school-dataset.s3.eu-central-1.amazonaws.com (frankfurt-school-dataset.s3.eu-central-1.amazonaws.com)|52.219.169.66|:443... connected.\n",
      "HTTP request sent, awaiting response... 200 OK\n",
      "Length: 82567 (81K) [text/csv]\n",
      "Saving to: ‘y_valid_window_size_5_time_encoding_True.csv’\n",
      "\n",
      "y_valid_window_size 100%[===================>]  80.63K   374KB/s    in 0.2s    \n",
      "\n",
      "2021-11-09 16:17:55 (374 KB/s) - ‘y_valid_window_size_5_time_encoding_True.csv’ saved [82567/82567]\n",
      "\n",
      "--2021-11-09 16:17:55--  https://frankfurt-school-dataset.s3.eu-central-1.amazonaws.com/Sept2021/window_size_5_time_encoding_True/X_test_window_size_5_time_encoding_True.csv\n",
      "Resolving frankfurt-school-dataset.s3.eu-central-1.amazonaws.com (frankfurt-school-dataset.s3.eu-central-1.amazonaws.com)... 52.219.169.66\n",
      "Connecting to frankfurt-school-dataset.s3.eu-central-1.amazonaws.com (frankfurt-school-dataset.s3.eu-central-1.amazonaws.com)|52.219.169.66|:443... connected.\n",
      "HTTP request sent, awaiting response... 200 OK\n",
      "Length: 6479846 (6.2M) [text/csv]\n",
      "Saving to: ‘X_test_window_size_5_time_encoding_True.csv’\n",
      "\n",
      "X_test_window_size_ 100%[===================>]   6.18M  5.80MB/s    in 1.1s    \n",
      "\n",
      "2021-11-09 16:17:57 (5.80 MB/s) - ‘X_test_window_size_5_time_encoding_True.csv’ saved [6479846/6479846]\n",
      "\n",
      "--2021-11-09 16:17:57--  https://frankfurt-school-dataset.s3.eu-central-1.amazonaws.com/Sept2021/window_size_5_time_encoding_True/y_test_window_size_5_time_encoding_True.csv\n",
      "Resolving frankfurt-school-dataset.s3.eu-central-1.amazonaws.com (frankfurt-school-dataset.s3.eu-central-1.amazonaws.com)... 52.219.169.66\n",
      "Connecting to frankfurt-school-dataset.s3.eu-central-1.amazonaws.com (frankfurt-school-dataset.s3.eu-central-1.amazonaws.com)|52.219.169.66|:443... connected.\n",
      "HTTP request sent, awaiting response... 200 OK\n",
      "Length: 181827 (178K) [text/csv]\n",
      "Saving to: ‘y_test_window_size_5_time_encoding_True.csv’\n",
      "\n",
      "y_test_window_size_ 100%[===================>] 177.57K   551KB/s    in 0.3s    \n",
      "\n",
      "2021-11-09 16:17:58 (551 KB/s) - ‘y_test_window_size_5_time_encoding_True.csv’ saved [181827/181827]\n",
      "\n",
      "--2021-11-09 16:17:58--  https://frankfurt-school-dataset.s3.eu-central-1.amazonaws.com/Sept2021/window_size_15_time_encoding_True/X_train_window_size_15_time_encoding_True.csv\n",
      "Resolving frankfurt-school-dataset.s3.eu-central-1.amazonaws.com (frankfurt-school-dataset.s3.eu-central-1.amazonaws.com)... 52.219.47.112\n",
      "Connecting to frankfurt-school-dataset.s3.eu-central-1.amazonaws.com (frankfurt-school-dataset.s3.eu-central-1.amazonaws.com)|52.219.47.112|:443... connected.\n",
      "HTTP request sent, awaiting response... 200 OK\n",
      "Length: 41978632 (40M) [text/csv]\n",
      "Saving to: ‘X_train_window_size_15_time_encoding_True.csv’\n",
      "\n",
      "X_train_window_size 100%[===================>]  40.03M  16.9MB/s    in 2.4s    \n",
      "\n",
      "2021-11-09 16:18:01 (16.9 MB/s) - ‘X_train_window_size_15_time_encoding_True.csv’ saved [41978632/41978632]\n",
      "\n",
      "--2021-11-09 16:18:01--  https://frankfurt-school-dataset.s3.eu-central-1.amazonaws.com/Sept2021/window_size_15_time_encoding_True/y_train_window_size_15_time_encoding_True.csv\n",
      "Resolving frankfurt-school-dataset.s3.eu-central-1.amazonaws.com (frankfurt-school-dataset.s3.eu-central-1.amazonaws.com)... 52.219.47.112\n",
      "Connecting to frankfurt-school-dataset.s3.eu-central-1.amazonaws.com (frankfurt-school-dataset.s3.eu-central-1.amazonaws.com)|52.219.47.112|:443... connected.\n",
      "HTTP request sent, awaiting response... 200 OK\n",
      "Length: 531355 (519K) [text/csv]\n",
      "Saving to: ‘y_train_window_size_15_time_encoding_True.csv’\n",
      "\n",
      "y_train_window_size 100%[===================>] 518.90K   973KB/s    in 0.5s    \n",
      "\n",
      "2021-11-09 16:18:02 (973 KB/s) - ‘y_train_window_size_15_time_encoding_True.csv’ saved [531355/531355]\n",
      "\n",
      "--2021-11-09 16:18:02--  https://frankfurt-school-dataset.s3.eu-central-1.amazonaws.com/Sept2021/window_size_15_time_encoding_True/X_valid_window_size_15_time_encoding_True.csv\n",
      "Resolving frankfurt-school-dataset.s3.eu-central-1.amazonaws.com (frankfurt-school-dataset.s3.eu-central-1.amazonaws.com)... 52.219.47.112\n",
      "Connecting to frankfurt-school-dataset.s3.eu-central-1.amazonaws.com (frankfurt-school-dataset.s3.eu-central-1.amazonaws.com)|52.219.47.112|:443... connected.\n",
      "HTTP request sent, awaiting response... 200 OK\n",
      "Length: 2262426 (2.2M) [text/csv]\n",
      "Saving to: ‘X_valid_window_size_15_time_encoding_True.csv’\n",
      "\n",
      "X_valid_window_size 100%[===================>]   2.16M  2.84MB/s    in 0.8s    \n",
      "\n",
      "2021-11-09 16:18:03 (2.84 MB/s) - ‘X_valid_window_size_15_time_encoding_True.csv’ saved [2262426/2262426]\n",
      "\n",
      "--2021-11-09 16:18:03--  https://frankfurt-school-dataset.s3.eu-central-1.amazonaws.com/Sept2021/window_size_15_time_encoding_True/y_valid_window_size_15_time_encoding_True.csv\n",
      "Resolving frankfurt-school-dataset.s3.eu-central-1.amazonaws.com (frankfurt-school-dataset.s3.eu-central-1.amazonaws.com)... 52.219.75.76\n",
      "Connecting to frankfurt-school-dataset.s3.eu-central-1.amazonaws.com (frankfurt-school-dataset.s3.eu-central-1.amazonaws.com)|52.219.75.76|:443... connected.\n",
      "HTTP request sent, awaiting response... 200 OK\n",
      "Length: 27675 (27K) [text/csv]\n",
      "Saving to: ‘y_valid_window_size_15_time_encoding_True.csv’\n",
      "\n",
      "y_valid_window_size 100%[===================>]  27.03K  --.-KB/s    in 0.1s    \n",
      "\n",
      "2021-11-09 16:18:04 (252 KB/s) - ‘y_valid_window_size_15_time_encoding_True.csv’ saved [27675/27675]\n",
      "\n",
      "--2021-11-09 16:18:04--  https://frankfurt-school-dataset.s3.eu-central-1.amazonaws.com/Sept2021/window_size_15_time_encoding_True/X_test_window_size_15_time_encoding_True.csv\n",
      "Resolving frankfurt-school-dataset.s3.eu-central-1.amazonaws.com (frankfurt-school-dataset.s3.eu-central-1.amazonaws.com)... 52.219.75.76\n",
      "Connecting to frankfurt-school-dataset.s3.eu-central-1.amazonaws.com (frankfurt-school-dataset.s3.eu-central-1.amazonaws.com)|52.219.75.76|:443... connected.\n",
      "HTTP request sent, awaiting response... 200 OK\n",
      "Length: 5152033 (4.9M) [text/csv]\n",
      "Saving to: ‘X_test_window_size_15_time_encoding_True.csv’\n",
      "\n",
      "X_test_window_size_ 100%[===================>]   4.91M  5.08MB/s    in 1.0s    \n",
      "\n",
      "2021-11-09 16:18:06 (5.08 MB/s) - ‘X_test_window_size_15_time_encoding_True.csv’ saved [5152033/5152033]\n",
      "\n",
      "--2021-11-09 16:18:06--  https://frankfurt-school-dataset.s3.eu-central-1.amazonaws.com/Sept2021/window_size_15_time_encoding_True/y_test_window_size_15_time_encoding_True.csv\n",
      "Resolving frankfurt-school-dataset.s3.eu-central-1.amazonaws.com (frankfurt-school-dataset.s3.eu-central-1.amazonaws.com)... 52.219.75.76\n",
      "Connecting to frankfurt-school-dataset.s3.eu-central-1.amazonaws.com (frankfurt-school-dataset.s3.eu-central-1.amazonaws.com)|52.219.75.76|:443... connected.\n",
      "HTTP request sent, awaiting response... 200 OK\n",
      "Length: 61541 (60K) [text/csv]\n",
      "Saving to: ‘y_test_window_size_15_time_encoding_True.csv’\n",
      "\n",
      "y_test_window_size_ 100%[===================>]  60.10K   280KB/s    in 0.2s    \n",
      "\n",
      "2021-11-09 16:18:07 (280 KB/s) - ‘y_test_window_size_15_time_encoding_True.csv’ saved [61541/61541]\n",
      "\n",
      "Downloading has finished\n"
     ]
    }
   ],
   "source": [
    "# Demonstration data used in this excercise is already preprocessed and split into\n",
    "# training, validation, and test sets\n",
    "\n",
    "# Use wget to download the data stored in csv format.\n",
    "import itertools\n",
    "\n",
    "# Define what files to download; download all of the preprocessed data\n",
    "# Note that the data are already split into Train, Validation, and Test sets.\n",
    "# The predictor data are denoted with 'X', the target by 'y'\n",
    "data_download = {}\n",
    "data_download[\"window_size\"] = [5, 15]\n",
    "data_download[\"data_type\"] = [\"train\", \"valid\", \"test\"]\n",
    "data_download[\"predictor_or_target\"] = [\"X\", \"y\"]\n",
    "\n",
    "# Prepare the combinations of the window sizes and the data types\n",
    "keys, values = zip(*data_download.items())\n",
    "data_download_combinations = [dict(zip(keys, v)) for v in itertools.product(*values)]\n",
    "display('The kind of data to be downloaded:', data_download_combinations)\n",
    "\n",
    "print(\"Downloading started...\")\n",
    "for data_download_param in data_download_combinations:\n",
    "  file_to_download = \"https://frankfurt-school-dataset.s3.eu-central-1.amazonaws.com/Sept2021/window_size_{0}_time_encoding_True/{1}_{2}_window_size_{0}_time_encoding_True.csv\"\\\n",
    "                     .format(data_download_param[\"window_size\"], data_download_param[\"predictor_or_target\"], data_download_param[\"data_type\"])\n",
    "\n",
    "  # the actual downloading\n",
    "  !wget \"$file_to_download\"\n",
    "\n",
    "print(\"Downloading has finished\")\n"
   ]
  },
  {
   "cell_type": "code",
   "execution_count": null,
   "metadata": {
    "id": "ZgMtcuQ8Vcva"
   },
   "outputs": [],
   "source": [
    "import pandas as pd \n",
    "import numpy as np"
   ]
  },
  {
   "cell_type": "code",
   "execution_count": null,
   "metadata": {
    "colab": {
     "base_uri": "https://localhost:8080/"
    },
    "id": "z0vv9prKVqkk",
    "outputId": "5c33acb8-5692-430b-9c59-8028ce3ec3fb"
   },
   "outputs": [
    {
     "name": "stdout",
     "output_type": "stream",
     "text": [
      "Collecting seglearn\n",
      "  Downloading seglearn-1.2.3-py3-none-any.whl (11.3 MB)\n",
      "\u001b[K     |████████████████████████████████| 11.3 MB 4.3 MB/s \n",
      "\u001b[?25hRequirement already satisfied: scipy in /usr/local/lib/python3.7/dist-packages (from seglearn) (1.4.1)\n",
      "Requirement already satisfied: numpy in /usr/local/lib/python3.7/dist-packages (from seglearn) (1.19.5)\n",
      "Requirement already satisfied: scikit-learn>=0.21.3 in /usr/local/lib/python3.7/dist-packages (from seglearn) (0.22.2.post1)\n",
      "Requirement already satisfied: joblib>=0.11 in /usr/local/lib/python3.7/dist-packages (from scikit-learn>=0.21.3->seglearn) (1.0.1)\n",
      "Installing collected packages: seglearn\n",
      "Successfully installed seglearn-1.2.3\n"
     ]
    }
   ],
   "source": [
    "!pip install seglearn"
   ]
  },
  {
   "cell_type": "code",
   "execution_count": null,
   "metadata": {
    "id": "chITYZkJVrx5"
   },
   "outputs": [],
   "source": [
    "def load_data(num):\n",
    "\n",
    "    X_train = pd.read_csv(\"X_train_window_size_{}_time_encoding_True.csv\".format(num))\n",
    "    y_train = pd.read_csv(\"y_train_window_size_{}_time_encoding_True.csv\".format(num))\n",
    "\n",
    "    X_valid = pd.read_csv(\"X_valid_window_size_{}_time_encoding_True.csv\".format(num))\n",
    "    y_valid = pd.read_csv(\"y_valid_window_size_{}_time_encoding_True.csv\".format(num))\n",
    "\n",
    "    return X_train, y_train, X_valid, y_valid"
   ]
  },
  {
   "cell_type": "code",
   "execution_count": null,
   "metadata": {
    "id": "z1jzUcEAVvCD"
   },
   "outputs": [],
   "source": [
    "def evaluate_model(model,X_valid, y_valid):\n",
    "    from math import sqrt\n",
    "    from sklearn.metrics import mean_squared_error, mean_absolute_error\n",
    "\n",
    "    predictions = model.predict(X_valid)\n",
    "    mse = mean_squared_error(y_valid, predictions)\n",
    "    mae = mean_absolute_error(y_valid, predictions)\n",
    "    # normalized_rms = normalizers[\"y\"].inverse_transform(np.array([rms]).reshape(1, -1))[0][0]\n",
    "    # print(\"Root mean squared error on valid inverse transformed from normalization:\",normalized_rms)\n",
    "    return mse, mae"
   ]
  },
  {
   "cell_type": "code",
   "execution_count": null,
   "metadata": {
    "id": "C4d4X6yaVwO3"
   },
   "outputs": [],
   "source": [
    "def display_history(history,name =\"None\"):\n",
    "    import matplotlib.pyplot as plt\n",
    "    \"\"\"Summarize history for accuracy and loss.\n",
    "    \"\"\"\n",
    "    fig, axs = plt.subplots(ncols=1,figsize=(10,6),sharey='row')\n",
    "    title = \"Loss_for_{}\".format(name)\n",
    "    plt.plot(history.history['loss'])\n",
    "    plt.plot(history.history['val_loss'])\n",
    "    plt.title(title)\n",
    "    plt.ylabel('loss')\n",
    "    plt.xlabel('epoch')\n",
    "    plt.legend(['train', 'valid'], loc='upper left')\n",
    "    # plt.savefig(name)\n",
    "    fig.savefig(title + '.png')\n",
    "    plt.show()"
   ]
  },
  {
   "cell_type": "code",
   "execution_count": null,
   "metadata": {
    "colab": {
     "base_uri": "https://localhost:8080/"
    },
    "id": "JJKA8bbKs9m6",
    "outputId": "689dc506-1709-47f1-d19e-f3918ec43a57"
   },
   "outputs": [
    {
     "metadata": {
      "tags": null
     },
     "name": "stdout",
     "output_type": "stream",
     "text": [
      "Fitting 2 folds for each of 32 candidates, totalling 64 fits\n",
      "[CV] max_depth=2, max_features=auto, n_estimators=100 ................\n"
     ]
    },
    {
     "metadata": {
      "tags": null
     },
     "name": "stderr",
     "output_type": "stream",
     "text": [
      "[Parallel(n_jobs=1)]: Using backend SequentialBackend with 1 concurrent workers.\n"
     ]
    },
    {
     "metadata": {
      "tags": null
     },
     "name": "stdout",
     "output_type": "stream",
     "text": [
      "[CV]  max_depth=2, max_features=auto, n_estimators=100, score=-24.191, total=   7.0s\n",
      "[CV] max_depth=2, max_features=auto, n_estimators=100 ................\n"
     ]
    },
    {
     "metadata": {
      "tags": null
     },
     "name": "stderr",
     "output_type": "stream",
     "text": [
      "[Parallel(n_jobs=1)]: Done   1 out of   1 | elapsed:    7.0s remaining:    0.0s\n"
     ]
    },
    {
     "metadata": {
      "tags": null
     },
     "name": "stdout",
     "output_type": "stream",
     "text": [
      "[CV]  max_depth=2, max_features=auto, n_estimators=100, score=-18.700, total=  13.7s\n",
      "[CV] max_depth=2, max_features=auto, n_estimators=200 ................\n"
     ]
    },
    {
     "metadata": {
      "tags": null
     },
     "name": "stderr",
     "output_type": "stream",
     "text": [
      "[Parallel(n_jobs=1)]: Done   2 out of   2 | elapsed:   20.7s remaining:    0.0s\n"
     ]
    },
    {
     "name": "stdout",
     "output_type": "stream",
     "text": [
      "[CV]  max_depth=2, max_features=auto, n_estimators=200, score=-23.770, total=  13.7s\n",
      "[CV] max_depth=2, max_features=auto, n_estimators=200 ................\n",
      "[CV]  max_depth=2, max_features=auto, n_estimators=200, score=-18.685, total=  27.2s\n",
      "[CV] max_depth=2, max_features=auto, n_estimators=300 ................\n",
      "[CV]  max_depth=2, max_features=auto, n_estimators=300, score=-23.829, total=  20.6s\n",
      "[CV] max_depth=2, max_features=auto, n_estimators=300 ................\n",
      "[CV]  max_depth=2, max_features=auto, n_estimators=300, score=-18.671, total=  41.0s\n",
      "[CV] max_depth=2, max_features=auto, n_estimators=400 ................\n",
      "[CV]  max_depth=2, max_features=auto, n_estimators=400, score=-23.763, total=  27.5s\n",
      "[CV] max_depth=2, max_features=auto, n_estimators=400 ................\n",
      "[CV]  max_depth=2, max_features=auto, n_estimators=400, score=-18.688, total=  54.7s\n",
      "[CV] max_depth=2, max_features=log2, n_estimators=100 ................\n",
      "[CV]  max_depth=2, max_features=log2, n_estimators=100, score=-21.195, total=   0.6s\n",
      "[CV] max_depth=2, max_features=log2, n_estimators=100 ................\n",
      "[CV]  max_depth=2, max_features=log2, n_estimators=100, score=-18.440, total=   1.1s\n",
      "[CV] max_depth=2, max_features=log2, n_estimators=200 ................\n",
      "[CV]  max_depth=2, max_features=log2, n_estimators=200, score=-21.041, total=   1.2s\n",
      "[CV] max_depth=2, max_features=log2, n_estimators=200 ................\n",
      "[CV]  max_depth=2, max_features=log2, n_estimators=200, score=-18.450, total=   2.1s\n",
      "[CV] max_depth=2, max_features=log2, n_estimators=300 ................\n",
      "[CV]  max_depth=2, max_features=log2, n_estimators=300, score=-21.111, total=   1.8s\n",
      "[CV] max_depth=2, max_features=log2, n_estimators=300 ................\n",
      "[CV]  max_depth=2, max_features=log2, n_estimators=300, score=-18.447, total=   3.2s\n",
      "[CV] max_depth=2, max_features=log2, n_estimators=400 ................\n",
      "[CV]  max_depth=2, max_features=log2, n_estimators=400, score=-21.156, total=   2.4s\n",
      "[CV] max_depth=2, max_features=log2, n_estimators=400 ................\n",
      "[CV]  max_depth=2, max_features=log2, n_estimators=400, score=-18.460, total=   4.2s\n",
      "[CV] max_depth=4, max_features=auto, n_estimators=100 ................\n",
      "[CV]  max_depth=4, max_features=auto, n_estimators=100, score=-25.014, total=  13.6s\n",
      "[CV] max_depth=4, max_features=auto, n_estimators=100 ................\n",
      "[CV]  max_depth=4, max_features=auto, n_estimators=100, score=-19.235, total=  27.3s\n",
      "[CV] max_depth=4, max_features=auto, n_estimators=200 ................\n",
      "[CV]  max_depth=4, max_features=auto, n_estimators=200, score=-24.635, total=  27.1s\n",
      "[CV] max_depth=4, max_features=auto, n_estimators=200 ................\n",
      "[CV]  max_depth=4, max_features=auto, n_estimators=200, score=-19.164, total=  54.4s\n",
      "[CV] max_depth=4, max_features=auto, n_estimators=300 ................\n",
      "[CV]  max_depth=4, max_features=auto, n_estimators=300, score=-24.605, total=  40.7s\n",
      "[CV] max_depth=4, max_features=auto, n_estimators=300 ................\n",
      "[CV]  max_depth=4, max_features=auto, n_estimators=300, score=-19.026, total= 1.4min\n",
      "[CV] max_depth=4, max_features=auto, n_estimators=400 ................\n",
      "[CV]  max_depth=4, max_features=auto, n_estimators=400, score=-24.540, total=  55.0s\n",
      "[CV] max_depth=4, max_features=auto, n_estimators=400 ................\n",
      "[CV]  max_depth=4, max_features=auto, n_estimators=400, score=-18.949, total= 1.8min\n",
      "[CV] max_depth=4, max_features=log2, n_estimators=100 ................\n",
      "[CV]  max_depth=4, max_features=log2, n_estimators=100, score=-20.986, total=   1.0s\n",
      "[CV] max_depth=4, max_features=log2, n_estimators=100 ................\n",
      "[CV]  max_depth=4, max_features=log2, n_estimators=100, score=-18.536, total=   1.9s\n",
      "[CV] max_depth=4, max_features=log2, n_estimators=200 ................\n",
      "[CV]  max_depth=4, max_features=log2, n_estimators=200, score=-21.013, total=   2.0s\n",
      "[CV] max_depth=4, max_features=log2, n_estimators=200 ................\n",
      "[CV]  max_depth=4, max_features=log2, n_estimators=200, score=-18.518, total=   3.8s\n",
      "[CV] max_depth=4, max_features=log2, n_estimators=300 ................\n",
      "[CV]  max_depth=4, max_features=log2, n_estimators=300, score=-21.053, total=   3.0s\n",
      "[CV] max_depth=4, max_features=log2, n_estimators=300 ................\n",
      "[CV]  max_depth=4, max_features=log2, n_estimators=300, score=-18.499, total=   5.6s\n",
      "[CV] max_depth=4, max_features=log2, n_estimators=400 ................\n",
      "[CV]  max_depth=4, max_features=log2, n_estimators=400, score=-21.144, total=   4.0s\n",
      "[CV] max_depth=4, max_features=log2, n_estimators=400 ................\n",
      "[CV]  max_depth=4, max_features=log2, n_estimators=400, score=-18.520, total=   7.5s\n",
      "[CV] max_depth=8, max_features=auto, n_estimators=100 ................\n",
      "[CV]  max_depth=8, max_features=auto, n_estimators=100, score=-25.592, total=  27.1s\n",
      "[CV] max_depth=8, max_features=auto, n_estimators=100 ................\n",
      "[CV]  max_depth=8, max_features=auto, n_estimators=100, score=-20.115, total=  54.9s\n",
      "[CV] max_depth=8, max_features=auto, n_estimators=200 ................\n",
      "[CV]  max_depth=8, max_features=auto, n_estimators=200, score=-24.848, total=  53.8s\n",
      "[CV] max_depth=8, max_features=auto, n_estimators=200 ................\n",
      "[CV]  max_depth=8, max_features=auto, n_estimators=200, score=-19.824, total= 1.8min\n",
      "[CV] max_depth=8, max_features=auto, n_estimators=300 ................\n",
      "[CV]  max_depth=8, max_features=auto, n_estimators=300, score=-24.749, total= 1.4min\n",
      "[CV] max_depth=8, max_features=auto, n_estimators=300 ................\n",
      "[CV]  max_depth=8, max_features=auto, n_estimators=300, score=-19.649, total= 2.7min\n",
      "[CV] max_depth=8, max_features=auto, n_estimators=400 ................\n",
      "[CV]  max_depth=8, max_features=auto, n_estimators=400, score=-24.629, total= 1.7min\n",
      "[CV] max_depth=8, max_features=auto, n_estimators=400 ................\n",
      "[CV]  max_depth=8, max_features=auto, n_estimators=400, score=-19.575, total= 3.5min\n",
      "[CV] max_depth=8, max_features=log2, n_estimators=100 ................\n",
      "[CV]  max_depth=8, max_features=log2, n_estimators=100, score=-21.356, total=   1.8s\n",
      "[CV] max_depth=8, max_features=log2, n_estimators=100 ................\n",
      "[CV]  max_depth=8, max_features=log2, n_estimators=100, score=-18.889, total=   3.4s\n",
      "[CV] max_depth=8, max_features=log2, n_estimators=200 ................\n",
      "[CV]  max_depth=8, max_features=log2, n_estimators=200, score=-21.334, total=   3.6s\n",
      "[CV] max_depth=8, max_features=log2, n_estimators=200 ................\n",
      "[CV]  max_depth=8, max_features=log2, n_estimators=200, score=-18.752, total=   6.8s\n",
      "[CV] max_depth=8, max_features=log2, n_estimators=300 ................\n",
      "[CV]  max_depth=8, max_features=log2, n_estimators=300, score=-21.323, total=   5.3s\n",
      "[CV] max_depth=8, max_features=log2, n_estimators=300 ................\n",
      "[CV]  max_depth=8, max_features=log2, n_estimators=300, score=-18.743, total=  10.3s\n",
      "[CV] max_depth=8, max_features=log2, n_estimators=400 ................\n",
      "[CV]  max_depth=8, max_features=log2, n_estimators=400, score=-21.449, total=   7.0s\n",
      "[CV] max_depth=8, max_features=log2, n_estimators=400 ................\n",
      "[CV]  max_depth=8, max_features=log2, n_estimators=400, score=-18.762, total=  13.9s\n",
      "[CV] max_depth=16, max_features=auto, n_estimators=100 ...............\n",
      "[CV]  max_depth=16, max_features=auto, n_estimators=100, score=-25.534, total=  52.0s\n",
      "[CV] max_depth=16, max_features=auto, n_estimators=100 ...............\n",
      "[CV]  max_depth=16, max_features=auto, n_estimators=100, score=-20.818, total= 1.8min\n",
      "[CV] max_depth=16, max_features=auto, n_estimators=200 ...............\n",
      "[CV]  max_depth=16, max_features=auto, n_estimators=200, score=-25.188, total= 1.8min\n",
      "[CV] max_depth=16, max_features=auto, n_estimators=200 ...............\n",
      "[CV]  max_depth=16, max_features=auto, n_estimators=200, score=-20.495, total= 3.5min\n",
      "[CV] max_depth=16, max_features=auto, n_estimators=300 ...............\n",
      "[CV]  max_depth=16, max_features=auto, n_estimators=300, score=-25.153, total= 2.6min\n",
      "[CV] max_depth=16, max_features=auto, n_estimators=300 ...............\n",
      "[CV]  max_depth=16, max_features=auto, n_estimators=300, score=-20.251, total= 5.3min\n",
      "[CV] max_depth=16, max_features=auto, n_estimators=400 ...............\n",
      "[CV]  max_depth=16, max_features=auto, n_estimators=400, score=-25.013, total= 3.5min\n",
      "[CV] max_depth=16, max_features=auto, n_estimators=400 ...............\n",
      "[CV]  max_depth=16, max_features=auto, n_estimators=400, score=-20.110, total= 7.0min\n",
      "[CV] max_depth=16, max_features=log2, n_estimators=100 ...............\n",
      "[CV]  max_depth=16, max_features=log2, n_estimators=100, score=-21.824, total=   3.4s\n",
      "[CV] max_depth=16, max_features=log2, n_estimators=100 ...............\n",
      "[CV]  max_depth=16, max_features=log2, n_estimators=100, score=-19.067, total=   6.7s\n",
      "[CV] max_depth=16, max_features=log2, n_estimators=200 ...............\n",
      "[CV]  max_depth=16, max_features=log2, n_estimators=200, score=-21.898, total=   6.8s\n",
      "[CV] max_depth=16, max_features=log2, n_estimators=200 ...............\n",
      "[CV]  max_depth=16, max_features=log2, n_estimators=200, score=-18.982, total=  13.4s\n",
      "[CV] max_depth=16, max_features=log2, n_estimators=300 ...............\n",
      "[CV]  max_depth=16, max_features=log2, n_estimators=300, score=-21.842, total=  10.2s\n",
      "[CV] max_depth=16, max_features=log2, n_estimators=300 ...............\n",
      "[CV]  max_depth=16, max_features=log2, n_estimators=300, score=-18.931, total=  20.1s\n",
      "[CV] max_depth=16, max_features=log2, n_estimators=400 ...............\n",
      "[CV]  max_depth=16, max_features=log2, n_estimators=400, score=-21.891, total=  13.6s\n",
      "[CV] max_depth=16, max_features=log2, n_estimators=400 ...............\n",
      "[CV]  max_depth=16, max_features=log2, n_estimators=400, score=-18.952, total=  26.9s\n"
     ]
    },
    {
     "name": "stderr",
     "output_type": "stream",
     "text": [
      "[Parallel(n_jobs=1)]: Done  64 out of  64 | elapsed: 53.1min finished\n"
     ]
    },
    {
     "data": {
      "text/plain": [
       "GridSearchCV(cv=TimeSeriesSplit(max_train_size=None, n_splits=2),\n",
       "             error_score=nan,\n",
       "             estimator=RandomForestRegressor(bootstrap=True, ccp_alpha=0.0,\n",
       "                                             criterion='mse', max_depth=None,\n",
       "                                             max_features='auto',\n",
       "                                             max_leaf_nodes=None,\n",
       "                                             max_samples=None,\n",
       "                                             min_impurity_decrease=0.0,\n",
       "                                             min_impurity_split=None,\n",
       "                                             min_samples_leaf=1,\n",
       "                                             min_samples_split=2,\n",
       "                                             min_weight_fraction_leaf=0.0,\n",
       "                                             n_estimators=100, n_jobs=None,\n",
       "                                             oob_score=False, random_state=10,\n",
       "                                             verbose=0, warm_start=False),\n",
       "             iid='deprecated', n_jobs=None,\n",
       "             param_grid={'max_depth': [2, 4, 8, 16],\n",
       "                         'max_features': ['auto', 'log2'],\n",
       "                         'n_estimators': [100, 200, 300, 400]},\n",
       "             pre_dispatch='2*n_jobs', refit=True, return_train_score=False,\n",
       "             scoring='neg_mean_squared_error', verbose=3)"
      ]
     },
     "execution_count": 7,
     "metadata": {},
     "output_type": "execute_result"
    }
   ],
   "source": [
    "from sklearn.ensemble import RandomForestRegressor \n",
    "from sklearn.model_selection import GridSearchCV\n",
    "from sklearn.model_selection import TimeSeriesSplit\n",
    "RForregCV = RandomForestRegressor(random_state=10)\n",
    "param_grid = {'n_estimators': [100, 200, 300,400], \n",
    "              'max_depth': [2,4,8,16],\n",
    "              'max_features': ['auto', 'log2']\n",
    "              }\n",
    "X_train, y_train, X_valid, y_valid = load_data(15)\n",
    "y_train = y_train.values.reshape(y_train.shape[0],)\n",
    "my_cv = TimeSeriesSplit(n_splits=2)\n",
    "CV_rfmodel = GridSearchCV(estimator=RForregCV, param_grid=param_grid, cv = my_cv, scoring = 'neg_mean_squared_error', verbose = 3)\n",
    "CV_rfmodel.fit(X_train, y_train)"
   ]
  },
  {
   "cell_type": "code",
   "execution_count": null,
   "metadata": {
    "colab": {
     "base_uri": "https://localhost:8080/"
    },
    "id": "KT2AKZRgu9sT",
    "outputId": "415460cb-27b3-464a-aa84-da90569b9939"
   },
   "outputs": [
    {
     "data": {
      "text/plain": [
       "(50.265457989235244, 3.482849689906972)"
      ]
     },
     "execution_count": 9,
     "metadata": {},
     "output_type": "execute_result"
    }
   ],
   "source": [
    "evaluate_model(CV_rfmodel, X_valid, y_valid)"
   ]
  },
  {
   "cell_type": "code",
   "execution_count": null,
   "metadata": {
    "colab": {
     "base_uri": "https://localhost:8080/"
    },
    "id": "VEkW1FvasYg0",
    "outputId": "d8a6233e-fb37-4539-e600-590d5099dd67"
   },
   "outputs": [
    {
     "data": {
      "text/plain": [
       "{'max_depth': 2, 'max_features': 'log2', 'n_estimators': 200}"
      ]
     },
     "execution_count": 10,
     "metadata": {},
     "output_type": "execute_result"
    }
   ],
   "source": [
    "CV_rfmodel.best_params_"
   ]
  },
  {
   "cell_type": "code",
   "execution_count": null,
   "metadata": {
    "id": "VVl5RaplssiD"
   },
   "outputs": [],
   "source": []
  }
 ],
 "metadata": {
  "accelerator": "GPU",
  "colab": {
   "collapsed_sections": [],
   "name": "RandomForrest15.ipynb",
   "provenance": []
  },
  "kernelspec": {
   "display_name": "Python 3",
   "language": "python",
   "name": "python3"
  },
  "language_info": {
   "codemirror_mode": {
    "name": "ipython",
    "version": 3
   },
   "file_extension": ".py",
   "mimetype": "text/x-python",
   "name": "python",
   "nbconvert_exporter": "python",
   "pygments_lexer": "ipython3",
   "version": "3.7.8"
  }
 },
 "nbformat": 4,
 "nbformat_minor": 1
}
