{
 "cells": [
  {
   "cell_type": "code",
   "execution_count": 1,
   "metadata": {
    "colab": {
     "base_uri": "https://localhost:8080/",
     "height": 1000
    },
    "id": "yig7t5sL8xSo",
    "outputId": "eddb544b-63ce-436e-a424-7876f87c1541"
   },
   "outputs": [
    {
     "data": {
      "application/vnd.google.colaboratory.intrinsic+json": {
       "type": "string"
      },
      "text/plain": [
       "'The kind of data to be downloaded:'"
      ]
     },
     "metadata": {},
     "output_type": "display_data"
    },
    {
     "data": {
      "text/plain": [
       "[{'data_type': 'train', 'predictor_or_target': 'X', 'window_size': 5},\n",
       " {'data_type': 'train', 'predictor_or_target': 'y', 'window_size': 5},\n",
       " {'data_type': 'valid', 'predictor_or_target': 'X', 'window_size': 5},\n",
       " {'data_type': 'valid', 'predictor_or_target': 'y', 'window_size': 5},\n",
       " {'data_type': 'test', 'predictor_or_target': 'X', 'window_size': 5},\n",
       " {'data_type': 'test', 'predictor_or_target': 'y', 'window_size': 5},\n",
       " {'data_type': 'train', 'predictor_or_target': 'X', 'window_size': 15},\n",
       " {'data_type': 'train', 'predictor_or_target': 'y', 'window_size': 15},\n",
       " {'data_type': 'valid', 'predictor_or_target': 'X', 'window_size': 15},\n",
       " {'data_type': 'valid', 'predictor_or_target': 'y', 'window_size': 15},\n",
       " {'data_type': 'test', 'predictor_or_target': 'X', 'window_size': 15},\n",
       " {'data_type': 'test', 'predictor_or_target': 'y', 'window_size': 15}]"
      ]
     },
     "metadata": {},
     "output_type": "display_data"
    },
    {
     "name": "stdout",
     "output_type": "stream",
     "text": [
      "Downloading started...\n",
      "--2021-11-10 20:49:46--  https://frankfurt-school-dataset.s3.eu-central-1.amazonaws.com/Sept2021/window_size_5_time_encoding_True/X_train_window_size_5_time_encoding_True.csv\n",
      "Resolving frankfurt-school-dataset.s3.eu-central-1.amazonaws.com (frankfurt-school-dataset.s3.eu-central-1.amazonaws.com)... 52.219.75.80\n",
      "Connecting to frankfurt-school-dataset.s3.eu-central-1.amazonaws.com (frankfurt-school-dataset.s3.eu-central-1.amazonaws.com)|52.219.75.80|:443... connected.\n",
      "HTTP request sent, awaiting response... 200 OK\n",
      "Length: 53997719 (51M) [text/csv]\n",
      "Saving to: ‘X_train_window_size_5_time_encoding_True.csv’\n",
      "\n",
      "X_train_window_size 100%[===================>]  51.50M  22.2MB/s    in 2.3s    \n",
      "\n",
      "2021-11-10 20:49:49 (22.2 MB/s) - ‘X_train_window_size_5_time_encoding_True.csv’ saved [53997719/53997719]\n",
      "\n",
      "--2021-11-10 20:49:49--  https://frankfurt-school-dataset.s3.eu-central-1.amazonaws.com/Sept2021/window_size_5_time_encoding_True/y_train_window_size_5_time_encoding_True.csv\n",
      "Resolving frankfurt-school-dataset.s3.eu-central-1.amazonaws.com (frankfurt-school-dataset.s3.eu-central-1.amazonaws.com)... 52.219.75.80\n",
      "Connecting to frankfurt-school-dataset.s3.eu-central-1.amazonaws.com (frankfurt-school-dataset.s3.eu-central-1.amazonaws.com)|52.219.75.80|:443... connected.\n",
      "HTTP request sent, awaiting response... 200 OK\n",
      "Length: 1505402 (1.4M) [text/csv]\n",
      "Saving to: ‘y_train_window_size_5_time_encoding_True.csv’\n",
      "\n",
      "y_train_window_size 100%[===================>]   1.44M  2.74MB/s    in 0.5s    \n",
      "\n",
      "2021-11-10 20:49:50 (2.74 MB/s) - ‘y_train_window_size_5_time_encoding_True.csv’ saved [1505402/1505402]\n",
      "\n",
      "--2021-11-10 20:49:50--  https://frankfurt-school-dataset.s3.eu-central-1.amazonaws.com/Sept2021/window_size_5_time_encoding_True/X_valid_window_size_5_time_encoding_True.csv\n",
      "Resolving frankfurt-school-dataset.s3.eu-central-1.amazonaws.com (frankfurt-school-dataset.s3.eu-central-1.amazonaws.com)... 52.219.75.80\n",
      "Connecting to frankfurt-school-dataset.s3.eu-central-1.amazonaws.com (frankfurt-school-dataset.s3.eu-central-1.amazonaws.com)|52.219.75.80|:443... connected.\n",
      "HTTP request sent, awaiting response... 200 OK\n",
      "Length: 2931637 (2.8M) [text/csv]\n",
      "Saving to: ‘X_valid_window_size_5_time_encoding_True.csv’\n",
      "\n",
      "X_valid_window_size 100%[===================>]   2.79M  4.56MB/s    in 0.6s    \n",
      "\n",
      "2021-11-10 20:49:51 (4.56 MB/s) - ‘X_valid_window_size_5_time_encoding_True.csv’ saved [2931637/2931637]\n",
      "\n",
      "--2021-11-10 20:49:51--  https://frankfurt-school-dataset.s3.eu-central-1.amazonaws.com/Sept2021/window_size_5_time_encoding_True/y_valid_window_size_5_time_encoding_True.csv\n",
      "Resolving frankfurt-school-dataset.s3.eu-central-1.amazonaws.com (frankfurt-school-dataset.s3.eu-central-1.amazonaws.com)... 52.219.74.65\n",
      "Connecting to frankfurt-school-dataset.s3.eu-central-1.amazonaws.com (frankfurt-school-dataset.s3.eu-central-1.amazonaws.com)|52.219.74.65|:443... connected.\n",
      "HTTP request sent, awaiting response... 200 OK\n",
      "Length: 82567 (81K) [text/csv]\n",
      "Saving to: ‘y_valid_window_size_5_time_encoding_True.csv’\n",
      "\n",
      "y_valid_window_size 100%[===================>]  80.63K   460KB/s    in 0.2s    \n",
      "\n",
      "2021-11-10 20:49:52 (460 KB/s) - ‘y_valid_window_size_5_time_encoding_True.csv’ saved [82567/82567]\n",
      "\n",
      "--2021-11-10 20:49:52--  https://frankfurt-school-dataset.s3.eu-central-1.amazonaws.com/Sept2021/window_size_5_time_encoding_True/X_test_window_size_5_time_encoding_True.csv\n",
      "Resolving frankfurt-school-dataset.s3.eu-central-1.amazonaws.com (frankfurt-school-dataset.s3.eu-central-1.amazonaws.com)... 52.219.74.65\n",
      "Connecting to frankfurt-school-dataset.s3.eu-central-1.amazonaws.com (frankfurt-school-dataset.s3.eu-central-1.amazonaws.com)|52.219.74.65|:443... connected.\n",
      "HTTP request sent, awaiting response... 200 OK\n",
      "Length: 6479846 (6.2M) [text/csv]\n",
      "Saving to: ‘X_test_window_size_5_time_encoding_True.csv’\n",
      "\n",
      "X_test_window_size_ 100%[===================>]   6.18M  7.65MB/s    in 0.8s    \n",
      "\n",
      "2021-11-10 20:49:53 (7.65 MB/s) - ‘X_test_window_size_5_time_encoding_True.csv’ saved [6479846/6479846]\n",
      "\n",
      "--2021-11-10 20:49:53--  https://frankfurt-school-dataset.s3.eu-central-1.amazonaws.com/Sept2021/window_size_5_time_encoding_True/y_test_window_size_5_time_encoding_True.csv\n",
      "Resolving frankfurt-school-dataset.s3.eu-central-1.amazonaws.com (frankfurt-school-dataset.s3.eu-central-1.amazonaws.com)... 52.219.74.65\n",
      "Connecting to frankfurt-school-dataset.s3.eu-central-1.amazonaws.com (frankfurt-school-dataset.s3.eu-central-1.amazonaws.com)|52.219.74.65|:443... connected.\n",
      "HTTP request sent, awaiting response... 200 OK\n",
      "Length: 181827 (178K) [text/csv]\n",
      "Saving to: ‘y_test_window_size_5_time_encoding_True.csv’\n",
      "\n",
      "y_test_window_size_ 100%[===================>] 177.57K   686KB/s    in 0.3s    \n",
      "\n",
      "2021-11-10 20:49:54 (686 KB/s) - ‘y_test_window_size_5_time_encoding_True.csv’ saved [181827/181827]\n",
      "\n",
      "--2021-11-10 20:49:54--  https://frankfurt-school-dataset.s3.eu-central-1.amazonaws.com/Sept2021/window_size_15_time_encoding_True/X_train_window_size_15_time_encoding_True.csv\n",
      "Resolving frankfurt-school-dataset.s3.eu-central-1.amazonaws.com (frankfurt-school-dataset.s3.eu-central-1.amazonaws.com)... 52.219.74.65\n",
      "Connecting to frankfurt-school-dataset.s3.eu-central-1.amazonaws.com (frankfurt-school-dataset.s3.eu-central-1.amazonaws.com)|52.219.74.65|:443... connected.\n",
      "HTTP request sent, awaiting response... 200 OK\n",
      "Length: 41978632 (40M) [text/csv]\n",
      "Saving to: ‘X_train_window_size_15_time_encoding_True.csv’\n",
      "\n",
      "X_train_window_size 100%[===================>]  40.03M  18.0MB/s    in 2.2s    \n",
      "\n",
      "2021-11-10 20:49:57 (18.0 MB/s) - ‘X_train_window_size_15_time_encoding_True.csv’ saved [41978632/41978632]\n",
      "\n",
      "--2021-11-10 20:49:57--  https://frankfurt-school-dataset.s3.eu-central-1.amazonaws.com/Sept2021/window_size_15_time_encoding_True/y_train_window_size_15_time_encoding_True.csv\n",
      "Resolving frankfurt-school-dataset.s3.eu-central-1.amazonaws.com (frankfurt-school-dataset.s3.eu-central-1.amazonaws.com)... 52.219.72.184\n",
      "Connecting to frankfurt-school-dataset.s3.eu-central-1.amazonaws.com (frankfurt-school-dataset.s3.eu-central-1.amazonaws.com)|52.219.72.184|:443... connected.\n",
      "HTTP request sent, awaiting response... 200 OK\n",
      "Length: 531355 (519K) [text/csv]\n",
      "Saving to: ‘y_train_window_size_15_time_encoding_True.csv’\n",
      "\n",
      "y_train_window_size 100%[===================>] 518.90K  1.13MB/s    in 0.4s    \n",
      "\n",
      "2021-11-10 20:49:58 (1.13 MB/s) - ‘y_train_window_size_15_time_encoding_True.csv’ saved [531355/531355]\n",
      "\n",
      "--2021-11-10 20:49:58--  https://frankfurt-school-dataset.s3.eu-central-1.amazonaws.com/Sept2021/window_size_15_time_encoding_True/X_valid_window_size_15_time_encoding_True.csv\n",
      "Resolving frankfurt-school-dataset.s3.eu-central-1.amazonaws.com (frankfurt-school-dataset.s3.eu-central-1.amazonaws.com)... 52.219.72.184\n",
      "Connecting to frankfurt-school-dataset.s3.eu-central-1.amazonaws.com (frankfurt-school-dataset.s3.eu-central-1.amazonaws.com)|52.219.72.184|:443... connected.\n",
      "HTTP request sent, awaiting response... 200 OK\n",
      "Length: 2262426 (2.2M) [text/csv]\n",
      "Saving to: ‘X_valid_window_size_15_time_encoding_True.csv’\n",
      "\n",
      "X_valid_window_size 100%[===================>]   2.16M  3.54MB/s    in 0.6s    \n",
      "\n",
      "2021-11-10 20:49:59 (3.54 MB/s) - ‘X_valid_window_size_15_time_encoding_True.csv’ saved [2262426/2262426]\n",
      "\n",
      "--2021-11-10 20:49:59--  https://frankfurt-school-dataset.s3.eu-central-1.amazonaws.com/Sept2021/window_size_15_time_encoding_True/y_valid_window_size_15_time_encoding_True.csv\n",
      "Resolving frankfurt-school-dataset.s3.eu-central-1.amazonaws.com (frankfurt-school-dataset.s3.eu-central-1.amazonaws.com)... 52.219.72.213\n",
      "Connecting to frankfurt-school-dataset.s3.eu-central-1.amazonaws.com (frankfurt-school-dataset.s3.eu-central-1.amazonaws.com)|52.219.72.213|:443... connected.\n",
      "HTTP request sent, awaiting response... 200 OK\n",
      "Length: 27675 (27K) [text/csv]\n",
      "Saving to: ‘y_valid_window_size_15_time_encoding_True.csv’\n",
      "\n",
      "y_valid_window_size 100%[===================>]  27.03K  --.-KB/s    in 0.09s   \n",
      "\n",
      "2021-11-10 20:50:00 (301 KB/s) - ‘y_valid_window_size_15_time_encoding_True.csv’ saved [27675/27675]\n",
      "\n",
      "--2021-11-10 20:50:00--  https://frankfurt-school-dataset.s3.eu-central-1.amazonaws.com/Sept2021/window_size_15_time_encoding_True/X_test_window_size_15_time_encoding_True.csv\n",
      "Resolving frankfurt-school-dataset.s3.eu-central-1.amazonaws.com (frankfurt-school-dataset.s3.eu-central-1.amazonaws.com)... 52.219.72.213\n",
      "Connecting to frankfurt-school-dataset.s3.eu-central-1.amazonaws.com (frankfurt-school-dataset.s3.eu-central-1.amazonaws.com)|52.219.72.213|:443... connected.\n",
      "HTTP request sent, awaiting response... 200 OK\n",
      "Length: 5152033 (4.9M) [text/csv]\n",
      "Saving to: ‘X_test_window_size_15_time_encoding_True.csv’\n",
      "\n",
      "X_test_window_size_ 100%[===================>]   4.91M  6.83MB/s    in 0.7s    \n",
      "\n",
      "2021-11-10 20:50:01 (6.83 MB/s) - ‘X_test_window_size_15_time_encoding_True.csv’ saved [5152033/5152033]\n",
      "\n",
      "--2021-11-10 20:50:01--  https://frankfurt-school-dataset.s3.eu-central-1.amazonaws.com/Sept2021/window_size_15_time_encoding_True/y_test_window_size_15_time_encoding_True.csv\n",
      "Resolving frankfurt-school-dataset.s3.eu-central-1.amazonaws.com (frankfurt-school-dataset.s3.eu-central-1.amazonaws.com)... 52.219.72.213\n",
      "Connecting to frankfurt-school-dataset.s3.eu-central-1.amazonaws.com (frankfurt-school-dataset.s3.eu-central-1.amazonaws.com)|52.219.72.213|:443... connected.\n",
      "HTTP request sent, awaiting response... 200 OK\n",
      "Length: 61541 (60K) [text/csv]\n",
      "Saving to: ‘y_test_window_size_15_time_encoding_True.csv’\n",
      "\n",
      "y_test_window_size_ 100%[===================>]  60.10K   343KB/s    in 0.2s    \n",
      "\n",
      "2021-11-10 20:50:01 (343 KB/s) - ‘y_test_window_size_15_time_encoding_True.csv’ saved [61541/61541]\n",
      "\n",
      "Downloading has finished\n"
     ]
    }
   ],
   "source": [
    "# Demonstration data used in this excercise is already preprocessed and split into\n",
    "# training, validation, and test sets\n",
    "\n",
    "# Use wget to download the data stored in csv format.\n",
    "import itertools\n",
    "\n",
    "# Define what files to download; download all of the preprocessed data\n",
    "# Note that the data are already split into Train, Validation, and Test sets.\n",
    "# The predictor data are denoted with 'X', the target by 'y'\n",
    "data_download = {}\n",
    "data_download[\"window_size\"] = [5, 15]\n",
    "data_download[\"data_type\"] = [\"train\", \"valid\", \"test\"]\n",
    "data_download[\"predictor_or_target\"] = [\"X\", \"y\"]\n",
    "\n",
    "# Prepare the combinations of the window sizes and the data types\n",
    "keys, values = zip(*data_download.items())\n",
    "data_download_combinations = [dict(zip(keys, v)) for v in itertools.product(*values)]\n",
    "display('The kind of data to be downloaded:', data_download_combinations)\n",
    "\n",
    "print(\"Downloading started...\")\n",
    "for data_download_param in data_download_combinations:\n",
    "  file_to_download = \"https://frankfurt-school-dataset.s3.eu-central-1.amazonaws.com/Sept2021/window_size_{0}_time_encoding_True/{1}_{2}_window_size_{0}_time_encoding_True.csv\"\\\n",
    "                     .format(data_download_param[\"window_size\"], data_download_param[\"predictor_or_target\"], data_download_param[\"data_type\"])\n",
    "\n",
    "  # the actual downloading\n",
    "  !wget \"$file_to_download\"\n",
    "\n",
    "print(\"Downloading has finished\")\n"
   ]
  },
  {
   "cell_type": "code",
   "execution_count": 2,
   "metadata": {
    "id": "VDjoaZ48Ur2r"
   },
   "outputs": [],
   "source": [
    "def load_data(num):\n",
    "\n",
    "    X_train = pd.read_csv(\"X_train_window_size_{}_time_encoding_True.csv\".format(num))\n",
    "    y_train = pd.read_csv(\"y_train_window_size_{}_time_encoding_True.csv\".format(num))\n",
    "\n",
    "    X_valid = pd.read_csv(\"X_valid_window_size_{}_time_encoding_True.csv\".format(num))\n",
    "    y_valid = pd.read_csv(\"y_valid_window_size_{}_time_encoding_True.csv\".format(num))\n",
    "\n",
    "    X_test =  pd.read_csv(\"X_test_window_size_{}_time_encoding_True.csv\".format(num))\n",
    "    y_test =  pd.read_csv(\"y_test_window_size_{}_time_encoding_True.csv\".format(num))\n",
    "\n",
    "\n",
    "    return X_train, y_train, X_valid, y_valid, X_test, y_test"
   ]
  },
  {
   "cell_type": "code",
   "execution_count": 3,
   "metadata": {
    "id": "2idjq2b3UxJo"
   },
   "outputs": [],
   "source": [
    "import pandas as pd \n",
    "import numpy as np"
   ]
  },
  {
   "cell_type": "code",
   "execution_count": 4,
   "metadata": {
    "colab": {
     "base_uri": "https://localhost:8080/"
    },
    "id": "78s4LlIKVVTc",
    "outputId": "551fa5cc-9f10-4cf1-ea28-0e29fb50dfca"
   },
   "outputs": [
    {
     "name": "stdout",
     "output_type": "stream",
     "text": [
      "Collecting seglearn\n",
      "  Downloading seglearn-1.2.3-py3-none-any.whl (11.3 MB)\n",
      "\u001b[K     |████████████████████████████████| 11.3 MB 31.3 MB/s \n",
      "\u001b[?25hRequirement already satisfied: scikit-learn>=0.21.3 in /usr/local/lib/python3.7/dist-packages (from seglearn) (0.22.2.post1)\n",
      "Requirement already satisfied: scipy in /usr/local/lib/python3.7/dist-packages (from seglearn) (1.4.1)\n",
      "Requirement already satisfied: numpy in /usr/local/lib/python3.7/dist-packages (from seglearn) (1.19.5)\n",
      "Requirement already satisfied: joblib>=0.11 in /usr/local/lib/python3.7/dist-packages (from scikit-learn>=0.21.3->seglearn) (1.1.0)\n",
      "Installing collected packages: seglearn\n",
      "Successfully installed seglearn-1.2.3\n"
     ]
    }
   ],
   "source": [
    "!pip install seglearn"
   ]
  },
  {
   "cell_type": "code",
   "execution_count": 5,
   "metadata": {
    "id": "KbD9OPgNVXZ1"
   },
   "outputs": [],
   "source": [
    "def evaluate_model(model,X_valid, y_valid):\n",
    "    from math import sqrt\n",
    "    from sklearn.metrics import mean_squared_error, mean_absolute_error\n",
    "\n",
    "    predictions = model.predict(X_valid)\n",
    "    mse = mean_squared_error(y_valid, predictions)\n",
    "    mae = mean_absolute_error(y_valid, predictions)\n",
    "    # normalized_rms = normalizers[\"y\"].inverse_transform(np.array([rms]).reshape(1, -1))[0][0]\n",
    "    # print(\"Root mean squared error on valid inverse transformed from normalization:\",normalized_rms)\n",
    "    return mse, mae"
   ]
  },
  {
   "cell_type": "code",
   "execution_count": null,
   "metadata": {
    "id": "czGa7RqoVrrg"
   },
   "outputs": [],
   "source": [
    "\n",
    "from sklearn.linear_model import ElasticNet\n",
    "\n",
    "modelEN = ElasticNet(alpha = 1, l1_ratio = 0.14, random_state = 10) #value of alpha and l1_ratio is based on a grid search on this model!\n"
   ]
  },
  {
   "cell_type": "code",
   "execution_count": null,
   "metadata": {
    "colab": {
     "base_uri": "https://localhost:8080/"
    },
    "id": "0Ts05TUWV9VU",
    "outputId": "9b61dfde-9038-4c63-a63a-734b806a3eeb"
   },
   "outputs": [
    {
     "name": "stdout",
     "output_type": "stream",
     "text": [
      "This is for time_window5\n",
      "MSE on test for =  21.130576960608533\n",
      "MAE on test for =  2.259168823239373\n",
      "This is for time_window15\n",
      "MSE on test for =  42.33482605905616\n",
      "MAE on test for =  3.0311943183076435\n"
     ]
    }
   ],
   "source": [
    " \n",
    "time_window = [5,15]\n",
    "for i in time_window:\n",
    "    X_train, y_train, X_valid,y_valid,X_test, y_test = load_data(i)\n",
    "    print(\"This is for time_window{}\".format(i))\n",
    "    \n",
    "    modelEN.fit(X_train.values,y_train.values.reshape(y_train.shape[0],))   \n",
    "    mse_error, mae_error = evaluate_model(modelEN,X_test,y_test)  \n",
    "    print(\"MSE on test for = \", mse_error)\n",
    "    print(\"MAE on test for = \", mae_error)\n",
    "    "
   ]
  },
  {
   "cell_type": "code",
   "execution_count": 6,
   "metadata": {
    "id": "9IZJ7aEtaVxB"
   },
   "outputs": [],
   "source": [
    "def display_history(history,name =\"None\"):\n",
    "    import matplotlib.pyplot as plt\n",
    "    \"\"\"Summarize history for accuracy and loss.\n",
    "    \"\"\"\n",
    "    fig, axs = plt.subplots(ncols=1,figsize=(10,6),sharey='row')\n",
    "    title = \"Loss_for_{}\".format(name)\n",
    "    plt.plot(history.history['loss'])\n",
    "    plt.plot(history.history['val_loss'])\n",
    "    plt.title(title)\n",
    "    plt.ylabel('loss')\n",
    "    plt.xlabel('epoch')\n",
    "    plt.legend(['train', 'test'], loc='upper left')\n",
    "    # plt.savefig(name)\n",
    "    fig.savefig(title + '.png')\n",
    "    plt.show()"
   ]
  },
  {
   "cell_type": "code",
   "execution_count": 7,
   "metadata": {
    "id": "dmEsvVpcXPai"
   },
   "outputs": [],
   "source": [
    "def CNN_basemodel(optimizer='adam', pool_type = 'max', activation = \"relu\", dropout_rate_1 = None, dropout_rate_2 = None, \n",
    "                    filter1 = 64, filter2 = 32, stride1 = 1, stride2 = 1, learning_rate = 0.001, \n",
    "                    stddev =1,weight_constraint =1, kernel1 = 1, kernel2 = 1, neurons = 256, n_features=1):\n",
    "\n",
    "    from tensorflow.keras.layers import Input, Dense, Dropout, Conv1D, MaxPool1D, Flatten, AveragePooling1D\n",
    "    from tensorflow.keras.models import Model\n",
    "    from tensorflow.keras.optimizers import Adadelta, Adam, SGD\n",
    "    from tensorflow.keras.losses import sparse_categorical_crossentropy\n",
    "    from tensorflow.keras.regularizers import l1\n",
    "    from tensorflow.keras.backend import clear_session\n",
    "    from tensorflow.keras.callbacks import TensorBoard\n",
    "    from tensorflow.keras.initializers import glorot_normal\n",
    "    from keras.constraints import maxnorm\n",
    "    from tensorflow.keras import initializers\n",
    "    import tensorflow as tf\n",
    "\n",
    "    x = Input(shape = (1,n_features))\n",
    "    conv1 = Conv1D(filters = 64, kernel_size= 2, strides = 1, padding= \"same\", activation = 'relu')(x)\n",
    "    pool1 = MaxPool1D(pool_size=1, padding = \"same\")(conv1)\n",
    "    # pool1 = AveragePooling1D(pool_size=1, padding = \"same\")(pool1)\n",
    "    conv2 = Conv1D(filters = 32, kernel_size= 2, strides = 1, padding= \"same\", activation = 'relu')(pool1)\n",
    "    dropout2 = Dropout(0.2)(conv2)\n",
    "    drop_flat = Flatten()(dropout2)\n",
    "    dense1 = Dense(256, activation='relu')(drop_flat)\n",
    "    predictions = Dense(1,activation= 'linear')(dense1)\n",
    "    model = Model(inputs = x, outputs = predictions)\n",
    "    print(model.summary())\n",
    "    return model\n"
   ]
  },
  {
   "cell_type": "code",
   "execution_count": 8,
   "metadata": {
    "id": "5PcHfU9wYvSY"
   },
   "outputs": [],
   "source": [
    "def LSTM_base(n_features):\n",
    "    import tensorflow as tf\n",
    "    from tensorflow.keras import Sequential\n",
    "    from tensorflow.keras.layers import Dense, Dropout, LSTM, Input\n",
    "    from tensorflow.keras import backend as be\n",
    "    from tensorflow.keras.callbacks import ModelCheckpoint, LearningRateScheduler\n",
    "    from tensorflow.keras.optimizers import Adam, SGD\n",
    "    import absl.logging\n",
    "    from tensorflow.keras.models import Model\n",
    "\n",
    "    absl.logging.set_verbosity(absl.logging.ERROR)\n",
    "    from numpy.random import seed\n",
    "    seed(23)\n",
    "    tf.random.set_seed(1)\n",
    "\n",
    "    be.clear_session()\n",
    "    \n",
    "    x = Input(shape=(1,n_features))\n",
    "    lstm1 = LSTM(units = 100,dropout= 0.2,return_sequences=True)(x)\n",
    "    lstm2 = LSTM(10)(lstm1)\n",
    "    dense1 = Dense(256, activation='relu')(lstm2)\n",
    "    predictions = Dense(1, activation='linear')(dense1)\n",
    "    model = Model(inputs = x, outputs = predictions)\n",
    "    print(model.summary())\n",
    "    return model\n",
    "   "
   ]
  },
  {
   "cell_type": "code",
   "execution_count": 9,
   "metadata": {
    "colab": {
     "base_uri": "https://localhost:8080/",
     "height": 1000
    },
    "id": "JYure9n6Y7Em",
    "outputId": "554c7c14-fe69-44a4-9c51-004b9b2969df"
   },
   "outputs": [
    {
     "name": "stdout",
     "output_type": "stream",
     "text": [
      "Model: \"model\"\n",
      "_________________________________________________________________\n",
      " Layer (type)                Output Shape              Param #   \n",
      "=================================================================\n",
      " input_1 (InputLayer)        [(None, 1, 41)]           0         \n",
      "                                                                 \n",
      " conv1d (Conv1D)             (None, 1, 64)             5312      \n",
      "                                                                 \n",
      " max_pooling1d (MaxPooling1D  (None, 1, 64)            0         \n",
      " )                                                               \n",
      "                                                                 \n",
      " conv1d_1 (Conv1D)           (None, 1, 32)             4128      \n",
      "                                                                 \n",
      " dropout (Dropout)           (None, 1, 32)             0         \n",
      "                                                                 \n",
      " flatten (Flatten)           (None, 32)                0         \n",
      "                                                                 \n",
      " dense (Dense)               (None, 256)               8448      \n",
      "                                                                 \n",
      " dense_1 (Dense)             (None, 1)                 257       \n",
      "                                                                 \n",
      "=================================================================\n",
      "Total params: 18,145\n",
      "Trainable params: 18,145\n",
      "Non-trainable params: 0\n",
      "_________________________________________________________________\n",
      "None\n",
      "Epoch 1/20\n",
      "916/916 [==============================] - 3s 3ms/step - loss: 24.8763 - val_loss: 25.8704\n",
      "Epoch 2/20\n",
      "916/916 [==============================] - 2s 2ms/step - loss: 13.1177 - val_loss: 25.6965\n",
      "Epoch 3/20\n",
      "916/916 [==============================] - 2s 2ms/step - loss: 27.7911 - val_loss: 25.6965\n",
      "Epoch 4/20\n",
      "916/916 [==============================] - 2s 2ms/step - loss: 40.1573 - val_loss: 25.6950\n",
      "Epoch 5/20\n",
      "916/916 [==============================] - 2s 2ms/step - loss: 28.5138 - val_loss: 25.6950\n",
      "Epoch 6/20\n",
      "916/916 [==============================] - 2s 2ms/step - loss: 12.6221 - val_loss: 25.6956\n",
      "Epoch 7/20\n",
      "916/916 [==============================] - 2s 2ms/step - loss: 11.9121 - val_loss: 25.6954\n",
      "Epoch 8/20\n",
      "916/916 [==============================] - 2s 2ms/step - loss: 12.0635 - val_loss: 25.6950\n",
      "Epoch 9/20\n",
      "916/916 [==============================] - 2s 2ms/step - loss: 11.9496 - val_loss: 25.6950\n",
      "Epoch 10/20\n",
      "916/916 [==============================] - 2s 2ms/step - loss: 11.9131 - val_loss: 25.6950\n",
      "Epoch 11/20\n",
      "916/916 [==============================] - 2s 2ms/step - loss: 11.9116 - val_loss: 25.6951\n",
      "Epoch 12/20\n",
      "916/916 [==============================] - 2s 2ms/step - loss: 11.9116 - val_loss: 25.6951\n",
      "Epoch 13/20\n",
      "916/916 [==============================] - 2s 2ms/step - loss: 11.9116 - val_loss: 25.6951\n",
      "Epoch 14/20\n",
      "916/916 [==============================] - 2s 2ms/step - loss: 11.9116 - val_loss: 25.6951\n",
      "Epoch 15/20\n",
      "916/916 [==============================] - 2s 2ms/step - loss: 11.9116 - val_loss: 25.6951\n",
      "Epoch 16/20\n",
      "916/916 [==============================] - 2s 2ms/step - loss: 11.9116 - val_loss: 25.6951\n",
      "Epoch 17/20\n",
      "916/916 [==============================] - 2s 2ms/step - loss: 11.9116 - val_loss: 25.6951\n",
      "Epoch 18/20\n",
      "916/916 [==============================] - 2s 2ms/step - loss: 11.9116 - val_loss: 25.6951\n",
      "Epoch 19/20\n",
      "916/916 [==============================] - 2s 2ms/step - loss: 11.9116 - val_loss: 25.6951\n",
      "Epoch 20/20\n",
      "916/916 [==============================] - 2s 2ms/step - loss: 11.9116 - val_loss: 25.6951\n"
     ]
    },
    {
     "data": {
      "image/png": "[encoded data removed]",
      "text/plain": [
       "<Figure size 720x432 with 1 Axes>"
      ]
     },
     "metadata": {
      "needs_background": "light"
     },
     "output_type": "display_data"
    },
    {
     "name": "stdout",
     "output_type": "stream",
     "text": [
      "Mean squared error on test is: 21.158070036202663\n",
      "MAE on test is: 2.2618845270910986\n",
      "Model: \"model\"\n",
      "_________________________________________________________________\n",
      " Layer (type)                Output Shape              Param #   \n",
      "=================================================================\n",
      " input_1 (InputLayer)        [(None, 1, 41)]           0         \n",
      "                                                                 \n",
      " lstm (LSTM)                 (None, 1, 100)            56800     \n",
      "                                                                 \n",
      " lstm_1 (LSTM)               (None, 10)                4440      \n",
      "                                                                 \n",
      " dense (Dense)               (None, 256)               2816      \n",
      "                                                                 \n",
      " dense_1 (Dense)             (None, 1)                 257       \n",
      "                                                                 \n",
      "=================================================================\n",
      "Total params: 64,313\n",
      "Trainable params: 64,313\n",
      "Non-trainable params: 0\n",
      "_________________________________________________________________\n",
      "None\n",
      "Epoch 1/20\n",
      "916/916 [==============================] - 9s 6ms/step - loss: 11.9136 - val_loss: 25.6856\n",
      "Epoch 2/20\n",
      "916/916 [==============================] - 5s 5ms/step - loss: 11.9124 - val_loss: 25.6930\n",
      "Epoch 3/20\n",
      "916/916 [==============================] - 5s 5ms/step - loss: 11.9107 - val_loss: 25.6948\n",
      "Epoch 4/20\n",
      "916/916 [==============================] - 5s 5ms/step - loss: 11.9102 - val_loss: 25.6981\n",
      "Epoch 5/20\n",
      "916/916 [==============================] - 5s 5ms/step - loss: 11.9116 - val_loss: 25.6957\n",
      "Epoch 6/20\n",
      "916/916 [==============================] - 5s 5ms/step - loss: 11.9093 - val_loss: 25.6953\n",
      "Epoch 7/20\n",
      "916/916 [==============================] - 5s 5ms/step - loss: 11.9102 - val_loss: 25.6955\n",
      "Epoch 8/20\n",
      "916/916 [==============================] - 5s 5ms/step - loss: 11.9090 - val_loss: 25.7055\n",
      "Epoch 9/20\n",
      "916/916 [==============================] - 5s 5ms/step - loss: 11.9111 - val_loss: 25.6987\n",
      "Epoch 10/20\n",
      "916/916 [==============================] - 5s 5ms/step - loss: 11.9085 - val_loss: 25.7006\n",
      "Epoch 11/20\n",
      "916/916 [==============================] - 5s 5ms/step - loss: 11.9070 - val_loss: 25.7024\n",
      "Epoch 12/20\n",
      "916/916 [==============================] - 5s 5ms/step - loss: 11.9094 - val_loss: 25.7058\n",
      "Epoch 13/20\n",
      "916/916 [==============================] - 5s 5ms/step - loss: 11.9095 - val_loss: 25.7009\n",
      "Epoch 14/20\n",
      "916/916 [==============================] - 5s 5ms/step - loss: 11.9074 - val_loss: 25.6983\n",
      "Epoch 15/20\n",
      "916/916 [==============================] - 5s 5ms/step - loss: 11.9104 - val_loss: 25.7019\n",
      "Epoch 16/20\n",
      "916/916 [==============================] - 5s 5ms/step - loss: 11.9096 - val_loss: 25.7012\n",
      "Epoch 17/20\n",
      "916/916 [==============================] - 5s 5ms/step - loss: 11.9058 - val_loss: 25.7144\n",
      "Epoch 18/20\n",
      "916/916 [==============================] - 5s 5ms/step - loss: 11.9093 - val_loss: 25.7033\n",
      "Epoch 19/20\n",
      "916/916 [==============================] - 5s 5ms/step - loss: 11.9068 - val_loss: 25.7119\n",
      "Epoch 20/20\n",
      "916/916 [==============================] - 5s 5ms/step - loss: 11.9037 - val_loss: 25.6970\n"
     ]
    },
    {
     "data": {
      "image/png": "[encoded data removed]",
      "text/plain": [
       "<Figure size 720x432 with 1 Axes>"
      ]
     },
     "metadata": {
      "needs_background": "light"
     },
     "output_type": "display_data"
    },
    {
     "name": "stdout",
     "output_type": "stream",
     "text": [
      "Mean squared error on test is: 21.15435821748113\n",
      "MAE on test is: 2.2676357735634287\n",
      "Model: \"model_1\"\n",
      "_________________________________________________________________\n",
      " Layer (type)                Output Shape              Param #   \n",
      "=================================================================\n",
      " input_2 (InputLayer)        [(None, 1, 101)]          0         \n",
      "                                                                 \n",
      " conv1d (Conv1D)             (None, 1, 64)             12992     \n",
      "                                                                 \n",
      " max_pooling1d (MaxPooling1D  (None, 1, 64)            0         \n",
      " )                                                               \n",
      "                                                                 \n",
      " conv1d_1 (Conv1D)           (None, 1, 32)             4128      \n",
      "                                                                 \n",
      " dropout (Dropout)           (None, 1, 32)             0         \n",
      "                                                                 \n",
      " flatten (Flatten)           (None, 32)                0         \n",
      "                                                                 \n",
      " dense_2 (Dense)             (None, 256)               8448      \n",
      "                                                                 \n",
      " dense_3 (Dense)             (None, 1)                 257       \n",
      "                                                                 \n",
      "=================================================================\n",
      "Total params: 25,825\n",
      "Trainable params: 25,825\n",
      "Non-trainable params: 0\n",
      "_________________________________________________________________\n",
      "None\n",
      "Epoch 1/20\n",
      "299/299 [==============================] - 1s 3ms/step - loss: 67.8185 - val_loss: 50.5168\n",
      "Epoch 2/20\n",
      "299/299 [==============================] - 1s 3ms/step - loss: 215.9186 - val_loss: 50.0908\n",
      "Epoch 3/20\n",
      "299/299 [==============================] - 1s 3ms/step - loss: 3065.0259 - val_loss: 49.8107\n",
      "Epoch 4/20\n",
      "299/299 [==============================] - 1s 3ms/step - loss: 186.1587 - val_loss: 49.8036\n",
      "Epoch 5/20\n",
      "299/299 [==============================] - 1s 3ms/step - loss: 22.1132 - val_loss: 49.7910\n",
      "Epoch 6/20\n",
      "299/299 [==============================] - 1s 3ms/step - loss: 21.8723 - val_loss: 49.7808\n",
      "Epoch 7/20\n",
      "299/299 [==============================] - 1s 3ms/step - loss: 19.9560 - val_loss: 49.7743\n",
      "Epoch 8/20\n",
      "299/299 [==============================] - 1s 3ms/step - loss: 19.7452 - val_loss: 49.7679\n",
      "Epoch 9/20\n",
      "299/299 [==============================] - 1s 3ms/step - loss: 19.4725 - val_loss: 49.7647\n",
      "Epoch 10/20\n",
      "299/299 [==============================] - 1s 3ms/step - loss: 19.3790 - val_loss: 49.7624\n",
      "Epoch 11/20\n",
      "299/299 [==============================] - 1s 3ms/step - loss: 19.3659 - val_loss: 49.7611\n",
      "Epoch 12/20\n",
      "299/299 [==============================] - 1s 3ms/step - loss: 19.3584 - val_loss: 49.7599\n",
      "Epoch 13/20\n",
      "299/299 [==============================] - 1s 3ms/step - loss: 19.3563 - val_loss: 49.7594\n",
      "Epoch 14/20\n",
      "299/299 [==============================] - 1s 3ms/step - loss: 19.3560 - val_loss: 49.7590\n",
      "Epoch 15/20\n",
      "299/299 [==============================] - 1s 3ms/step - loss: 19.3557 - val_loss: 49.7590\n",
      "Epoch 16/20\n",
      "299/299 [==============================] - 1s 3ms/step - loss: 19.3597 - val_loss: 49.7582\n",
      "Epoch 17/20\n",
      "299/299 [==============================] - 1s 3ms/step - loss: 19.3711 - val_loss: 49.7596\n",
      "Epoch 18/20\n",
      "299/299 [==============================] - 1s 3ms/step - loss: 19.3893 - val_loss: 49.7572\n",
      "Epoch 19/20\n",
      "299/299 [==============================] - 1s 3ms/step - loss: 19.4687 - val_loss: 49.7600\n",
      "Epoch 20/20\n",
      "299/299 [==============================] - 1s 3ms/step - loss: 19.4820 - val_loss: 49.7573\n"
     ]
    },
    {
     "data": {
      "image/png": "[encoded data removed]",
      "text/plain": [
       "<Figure size 720x432 with 1 Axes>"
      ]
     },
     "metadata": {
      "needs_background": "light"
     },
     "output_type": "display_data"
    },
    {
     "name": "stdout",
     "output_type": "stream",
     "text": [
      "Mean squared error on test is: 41.92997194415769\n",
      "MAE on test is: 3.0114691484758724\n",
      "Model: \"model\"\n",
      "_________________________________________________________________\n",
      " Layer (type)                Output Shape              Param #   \n",
      "=================================================================\n",
      " input_1 (InputLayer)        [(None, 1, 101)]          0         \n",
      "                                                                 \n",
      " lstm (LSTM)                 (None, 1, 100)            80800     \n",
      "                                                                 \n",
      " lstm_1 (LSTM)               (None, 10)                4440      \n",
      "                                                                 \n",
      " dense (Dense)               (None, 256)               2816      \n",
      "                                                                 \n",
      " dense_1 (Dense)             (None, 1)                 257       \n",
      "                                                                 \n",
      "=================================================================\n",
      "Total params: 88,313\n",
      "Trainable params: 88,313\n",
      "Non-trainable params: 0\n",
      "_________________________________________________________________\n",
      "None\n",
      "Epoch 1/20\n",
      "299/299 [==============================] - 6s 8ms/step - loss: 19.3643 - val_loss: 49.7536\n",
      "Epoch 2/20\n",
      "299/299 [==============================] - 2s 6ms/step - loss: 19.3617 - val_loss: 49.7694\n",
      "Epoch 3/20\n",
      "299/299 [==============================] - 2s 6ms/step - loss: 19.3624 - val_loss: 49.7546\n",
      "Epoch 4/20\n",
      "299/299 [==============================] - 2s 6ms/step - loss: 19.3606 - val_loss: 49.7636\n",
      "Epoch 5/20\n",
      "299/299 [==============================] - 2s 6ms/step - loss: 19.3596 - val_loss: 49.7709\n",
      "Epoch 6/20\n",
      "299/299 [==============================] - 2s 6ms/step - loss: 19.3579 - val_loss: 49.7715\n",
      "Epoch 7/20\n",
      "299/299 [==============================] - 2s 6ms/step - loss: 19.3598 - val_loss: 49.7659\n",
      "Epoch 8/20\n",
      "299/299 [==============================] - 2s 6ms/step - loss: 19.3586 - val_loss: 49.7677\n",
      "Epoch 9/20\n",
      "299/299 [==============================] - 2s 6ms/step - loss: 19.3590 - val_loss: 49.7659\n",
      "Epoch 10/20\n",
      "299/299 [==============================] - 2s 6ms/step - loss: 19.3582 - val_loss: 49.7622\n",
      "Epoch 11/20\n",
      "299/299 [==============================] - 2s 6ms/step - loss: 19.3582 - val_loss: 49.7618\n",
      "Epoch 12/20\n",
      "299/299 [==============================] - 2s 6ms/step - loss: 19.3588 - val_loss: 49.7624\n",
      "Epoch 13/20\n",
      "299/299 [==============================] - 2s 6ms/step - loss: 19.3581 - val_loss: 49.7694\n",
      "Epoch 14/20\n",
      "299/299 [==============================] - 2s 6ms/step - loss: 19.3574 - val_loss: 49.7653\n",
      "Epoch 15/20\n",
      "299/299 [==============================] - 2s 6ms/step - loss: 19.3570 - val_loss: 49.7705\n",
      "Epoch 16/20\n",
      "299/299 [==============================] - 2s 6ms/step - loss: 19.3573 - val_loss: 49.7641\n",
      "Epoch 17/20\n",
      "299/299 [==============================] - 2s 6ms/step - loss: 19.3575 - val_loss: 49.7671\n",
      "Epoch 18/20\n",
      "299/299 [==============================] - 2s 6ms/step - loss: 19.3576 - val_loss: 49.7637\n",
      "Epoch 19/20\n",
      "299/299 [==============================] - 2s 6ms/step - loss: 19.3571 - val_loss: 49.7533\n",
      "Epoch 20/20\n",
      "299/299 [==============================] - 2s 6ms/step - loss: 19.3585 - val_loss: 49.7601\n"
     ]
    },
    {
     "data": {
      "image/png": "[encoded data removed]",
      "text/plain": [
       "<Figure size 720x432 with 1 Axes>"
      ]
     },
     "metadata": {
      "needs_background": "light"
     },
     "output_type": "display_data"
    },
    {
     "name": "stdout",
     "output_type": "stream",
     "text": [
      "Mean squared error on test is: 41.930105318162674\n",
      "MAE on test is: 3.0111721151589372\n"
     ]
    }
   ],
   "source": [
    "import tensorflow as tf\n",
    "from tensorflow.keras import Sequential\n",
    "from tensorflow.keras.layers import Dense, Dropout, LSTM\n",
    "from tensorflow.keras import backend as be\n",
    "from tensorflow.keras.callbacks import ModelCheckpoint, LearningRateScheduler\n",
    "from tensorflow.keras.optimizers import Adam, SGD\n",
    "import absl.logging\n",
    "from tensorflow.keras.layers import Input, Dense, Dropout, Conv2D, MaxPool2D, Flatten, Conv1D, MaxPool1D\n",
    "from keras.layers.merge import concatenate\n",
    "from tensorflow.keras.models import Model\n",
    "from keras.constraints import maxnorm\n",
    "from tensorflow.keras import initializers\n",
    "\n",
    "be.clear_session()\n",
    "tf.compat.v1.reset_default_graph()\n",
    "report = pd.DataFrame(columns = ['epochs','batch_size','optimizer','activation',\"Model\",'Val_ms_error','Val_ma_error','Time_window'])\n",
    "Time_windows = [5,15]\n",
    "for i in Time_windows:\n",
    "    n_steps = i-1\n",
    "    batch_size = 100\n",
    "    # leanring_rate = 0.\n",
    "    epoch = 20\n",
    "    X_train, y_train,X_valid, y_valid, X_test, y_test = load_data(i)\n",
    "    n_features = X_train.shape[1]\n",
    "    X_train = X_train.values.reshape(X_train.shape[0],1,n_features)\n",
    "    X_valid = X_valid.values.reshape(X_valid.shape[0],1,n_features)\n",
    "    X_test = X_test.values.reshape(X_test.shape[0],1,n_features)\n",
    "\n",
    "\n",
    "    model = CNN_basemodel(n_features = n_features)\n",
    "    model.compile(optimizer='adam', loss='mse')\n",
    "    history = model.fit(X_train,y_train,validation_data = (X_valid, y_valid), \n",
    "                        batch_size = batch_size,epochs=epoch, verbose=1,shuffle = False)\n",
    "    display_history(history,\"CNN_BASE\")\n",
    "    \n",
    "    mse_error, mae_error = evaluate_model(model,X_test,y_test)\n",
    "    report.loc[len(report)] = [epoch,batch_size,\"Adam\",\"RELU\",\"CNN_Basic\",mse_error,mae_error,i]\n",
    "    print(\"Mean squared error on test is: {}\".format(mse_error))\n",
    "    print(\"MAE on test is: {}\".format(mae_error))\n",
    "    \n",
    "    model = LSTM_base(n_features = n_features)\n",
    "    model.compile(optimizer='adam', loss='mse')\n",
    "    history = model.fit(X_train,y_train,validation_data = (X_valid, y_valid), \n",
    "                        batch_size = batch_size,epochs=epoch, verbose=1,shuffle = False)\n",
    "    display_history(history,\"LSTM_BASE\")\n",
    "    mse_error, mae_error = evaluate_model(model,X_test,y_test)\n",
    "    report.loc[len(report)] = [epoch,batch_size,\"Adam\",\"RELU\",\"LSTM_Basic\",mse_error,mae_error,i]\n",
    "    print(\"Mean squared error on test is: {}\".format(mse_error))\n",
    "    print(\"MAE on test is: {}\".format(mae_error))\n",
    "    "
   ]
  },
  {
   "cell_type": "code",
   "execution_count": null,
   "metadata": {
    "id": "AqemgYgMdg9F"
   },
   "outputs": [],
   "source": []
  }
 ],
 "metadata": {
  "colab": {
   "name": "Test_Run_Best_3.ipynb",
   "provenance": []
  },
  "kernelspec": {
   "display_name": "Python 3",
   "language": "python",
   "name": "python3"
  },
  "language_info": {
   "codemirror_mode": {
    "name": "ipython",
    "version": 3
   },
   "file_extension": ".py",
   "mimetype": "text/x-python",
   "name": "python",
   "nbconvert_exporter": "python",
   "pygments_lexer": "ipython3",
   "version": "3.7.8"
  }
 },
 "nbformat": 4,
 "nbformat_minor": 1
}
